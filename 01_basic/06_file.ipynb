{
 "cells": [
  {
   "cell_type": "code",
   "execution_count": 20,
   "id": "5e57ca73-f635-47ea-b48c-b90e87f1f254",
   "metadata": {},
   "outputs": [],
   "source": [
    "f = open('test.txt','w', encoding='utf8')"
   ]
  },
  {
   "cell_type": "code",
   "execution_count": 21,
   "id": "1b1240cd-f21d-4525-aef3-6353b9af1f71",
   "metadata": {},
   "outputs": [
    {
     "data": {
      "text/plain": [
       "2"
      ]
     },
     "execution_count": 21,
     "metadata": {},
     "output_type": "execute_result"
    }
   ],
   "source": [
    "f.write(\"내용\")"
   ]
  },
  {
   "cell_type": "code",
   "execution_count": 22,
   "id": "ce717bed-a878-4c39-a895-666787f9f033",
   "metadata": {},
   "outputs": [],
   "source": [
    "f.close()"
   ]
  }
 ],
 "metadata": {
  "kernelspec": {
   "display_name": "Python 3 (ipykernel)",
   "language": "python",
   "name": "python3"
  },
  "language_info": {
   "codemirror_mode": {
    "name": "ipython",
    "version": 3
   },
   "file_extension": ".py",
   "mimetype": "text/x-python",
   "name": "python",
   "nbconvert_exporter": "python",
   "pygments_lexer": "ipython3",
   "version": "3.11.7"
  }
 },
 "nbformat": 4,
 "nbformat_minor": 5
}
