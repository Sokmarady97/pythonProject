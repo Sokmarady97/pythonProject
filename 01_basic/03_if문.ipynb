{
 "cells": [
  {
   "cell_type": "code",
   "execution_count": 6,
   "id": "886f9c69-c00b-4ac7-8ee9-86c13510c4cc",
   "metadata": {},
   "outputs": [
    {
     "name": "stdin",
     "output_type": "stream",
     "text": [
      "주민등록를 입력하시오 :  123456-1234567\n"
     ]
    },
    {
     "name": "stdout",
     "output_type": "stream",
     "text": [
      "남자\n"
     ]
    }
   ],
   "source": [
    "id = input(\"주민등록를 입력하시오 : \")\n",
    "result = \"남자\" if id[7] in [\"1\",\"3\"] else \"여자\"\n",
    "print(result)"
   ]
  },
  {
   "cell_type": "code",
   "execution_count": 9,
   "id": "9c7d5484-b71a-432f-bc4e-50bc985a8422",
   "metadata": {},
   "outputs": [
    {
     "name": "stdin",
     "output_type": "stream",
     "text": [
      "pls input your email:  tang@gmail.com\n"
     ]
    },
    {
     "name": "stdout",
     "output_type": "stream",
     "text": [
      "tang\n"
     ]
    }
   ],
   "source": [
    "email = input(\"pls input your email: \")\n",
    "if email.count('@') == 1:\n",
    "    print(email[:email.find('@')])\n",
    "else:\n",
    "    print('@ 형식이 올바르지 않습니다.')"
   ]
  },
  {
   "cell_type": "code",
   "execution_count": 11,
   "id": "396d9a33-fd7c-43c9-b510-7dcc0627b00a",
   "metadata": {},
   "outputs": [
    {
     "name": "stdin",
     "output_type": "stream",
     "text": [
      "pls input your email:  tang@gmail.com\n"
     ]
    },
    {
     "name": "stdout",
     "output_type": "stream",
     "text": [
      "tang\n"
     ]
    }
   ],
   "source": [
    "email = input(\"pls input your email: \")\n",
    "result = email[:email.find('@')] if email.count('@') == 1 else '@ 형식이 올바르지 않습니다.'\n",
    "print(result)"
   ]
  },
  {
   "cell_type": "code",
   "execution_count": null,
   "id": "60c3da9b-6851-452d-9d18-42e12e8c8cda",
   "metadata": {},
   "outputs": [],
   "source": []
  }
 ],
 "metadata": {
  "kernelspec": {
   "display_name": "Python 3 (ipykernel)",
   "language": "python",
   "name": "python3"
  },
  "language_info": {
   "codemirror_mode": {
    "name": "ipython",
    "version": 3
   },
   "file_extension": ".py",
   "mimetype": "text/x-python",
   "name": "python",
   "nbconvert_exporter": "python",
   "pygments_lexer": "ipython3",
   "version": "3.11.7"
  }
 },
 "nbformat": 4,
 "nbformat_minor": 5
}
