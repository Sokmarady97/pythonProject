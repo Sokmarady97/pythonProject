{
 "cells": [
  {
   "cell_type": "markdown",
   "id": "8cc116a5-9375-4eec-b9a5-74154cadd286",
   "metadata": {},
   "source": [
    "## 2. 문자열 자료형"
   ]
  },
  {
   "cell_type": "code",
   "execution_count": 2,
   "id": "22ff5d69-f21e-4a94-9f00-daa0b1fa9bd1",
   "metadata": {},
   "outputs": [],
   "source": [
    "food = \"python's favorite food is perl\""
   ]
  },
  {
   "cell_type": "code",
   "execution_count": 7,
   "id": "de03b60b-8a04-4366-9d05-5563652bb615",
   "metadata": {},
   "outputs": [
    {
     "name": "stdout",
     "output_type": "stream",
     "text": [
      "python's favorite \n",
      "food is perl\n"
     ]
    }
   ],
   "source": [
    "food = \"python's favorite \\nfood is perl\"\n",
    "print(food)"
   ]
  },
  {
   "cell_type": "code",
   "execution_count": 12,
   "id": "5681c7d2-85b1-403d-8b07-ac9da20e7633",
   "metadata": {},
   "outputs": [
    {
     "name": "stdout",
     "output_type": "stream",
     "text": [
      "python's favorite food is perl\n",
      "next\n",
      "~~\n"
     ]
    }
   ],
   "source": [
    "food = '''python's favorite food is perl\n",
    "next\n",
    "~~'''\n",
    "print(food)"
   ]
  },
  {
   "cell_type": "code",
   "execution_count": 16,
   "id": "5ee4f2bb-e8d3-448d-9448-8bf89ff54706",
   "metadata": {},
   "outputs": [
    {
     "data": {
      "text/plain": [
       "'Python is fun!'"
      ]
     },
     "execution_count": 16,
     "metadata": {},
     "output_type": "execute_result"
    }
   ],
   "source": [
    "head = \"Python\"\n",
    "tail = \" is fun!\"\n",
    "head + tail"
   ]
  },
  {
   "cell_type": "code",
   "execution_count": 20,
   "id": "2a119a1c-bb6d-4ebd-a5a1-47fa7adff1a2",
   "metadata": {},
   "outputs": [
    {
     "data": {
      "text/plain": [
       "'pythonpython'"
      ]
     },
     "execution_count": 20,
     "metadata": {},
     "output_type": "execute_result"
    }
   ],
   "source": [
    "a = \"python\"\n",
    "a * 2"
   ]
  },
  {
   "cell_type": "code",
   "execution_count": 21,
   "id": "9feef77f-d97c-4659-8333-d4835daa4ffb",
   "metadata": {},
   "outputs": [
    {
     "data": {
      "text/plain": [
       "17"
      ]
     },
     "execution_count": 21,
     "metadata": {},
     "output_type": "execute_result"
    }
   ],
   "source": [
    "a = \"Life is too short\"\n",
    "len(a)"
   ]
  },
  {
   "cell_type": "code",
   "execution_count": 22,
   "id": "2df117c9-d334-4ce3-a005-c9b7d4aa1040",
   "metadata": {},
   "outputs": [],
   "source": [
    "a = \"Life is too short, You need Python\""
   ]
  },
  {
   "cell_type": "code",
   "execution_count": 23,
   "id": "04b2510c-33b4-4855-b9dc-5fce3c9f90a2",
   "metadata": {},
   "outputs": [
    {
     "data": {
      "text/plain": [
       "'e'"
      ]
     },
     "execution_count": 23,
     "metadata": {},
     "output_type": "execute_result"
    }
   ],
   "source": [
    "a[3]"
   ]
  },
  {
   "cell_type": "code",
   "execution_count": 24,
   "id": "3b0a215d-64cc-478f-a35e-57cf806c751e",
   "metadata": {},
   "outputs": [
    {
     "data": {
      "text/plain": [
       "'n'"
      ]
     },
     "execution_count": 24,
     "metadata": {},
     "output_type": "execute_result"
    }
   ],
   "source": [
    "a[-1]"
   ]
  },
  {
   "cell_type": "code",
   "execution_count": 25,
   "id": "c91b8c94-fd31-4262-8295-e87548b77aa9",
   "metadata": {},
   "outputs": [
    {
     "data": {
      "text/plain": [
       "'Life'"
      ]
     },
     "execution_count": 25,
     "metadata": {},
     "output_type": "execute_result"
    }
   ],
   "source": [
    "a[0:4]"
   ]
  },
  {
   "cell_type": "code",
   "execution_count": 26,
   "id": "5d9c8f7c-7e2a-4d52-b921-ed92e3e625f2",
   "metadata": {},
   "outputs": [
    {
     "data": {
      "text/plain": [
       "'Life is too short, You need Python'"
      ]
     },
     "execution_count": 26,
     "metadata": {},
     "output_type": "execute_result"
    }
   ],
   "source": [
    "a[:]"
   ]
  },
  {
   "cell_type": "code",
   "execution_count": 27,
   "id": "70a9b7b1-39be-4b8e-b047-aecb79b003bf",
   "metadata": {},
   "outputs": [
    {
     "data": {
      "text/plain": [
       "'Life is to'"
      ]
     },
     "execution_count": 27,
     "metadata": {},
     "output_type": "execute_result"
    }
   ],
   "source": [
    "a[:10]"
   ]
  },
  {
   "cell_type": "code",
   "execution_count": 29,
   "id": "595ae0ad-8f2b-4b04-bc2e-851d1775c5c5",
   "metadata": {},
   "outputs": [
    {
     "data": {
      "text/plain": [
       "'You need'"
      ]
     },
     "execution_count": 29,
     "metadata": {},
     "output_type": "execute_result"
    }
   ],
   "source": [
    "a[19:-7]"
   ]
  },
  {
   "cell_type": "code",
   "execution_count": 37,
   "id": "0ddde446-07fa-4ecd-b38f-ede49e873d0a",
   "metadata": {},
   "outputs": [
    {
     "name": "stdin",
     "output_type": "stream",
     "text": [
      "이메일 주소를 입력하시오:  mardy@gmail.com\n"
     ]
    },
    {
     "name": "stdout",
     "output_type": "stream",
     "text": [
      ".com\n"
     ]
    }
   ],
   "source": [
    "email = input(\"이메일 주소를 입력하시오: \")\n",
    "print(email[-4:])"
   ]
  },
  {
   "cell_type": "code",
   "execution_count": 39,
   "id": "2578b41c-eed9-400f-b5cb-0fc7e240f2e9",
   "metadata": {},
   "outputs": [
    {
     "data": {
      "text/plain": [
       "str"
      ]
     },
     "execution_count": 39,
     "metadata": {},
     "output_type": "execute_result"
    }
   ],
   "source": [
    "type(\"I eat  apples\")"
   ]
  },
  {
   "cell_type": "code",
   "execution_count": 44,
   "id": "f94bc9ba-9181-4608-bd50-a83df8e6ec72",
   "metadata": {},
   "outputs": [
    {
     "data": {
      "text/plain": [
       "'I eat end apples 5'"
      ]
     },
     "execution_count": 44,
     "metadata": {},
     "output_type": "execute_result"
    }
   ],
   "source": [
    "\"I eat {1} apples {0}\".format(5,\"end\")"
   ]
  },
  {
   "cell_type": "code",
   "execution_count": 55,
   "id": "c763aa56-1fe0-4f42-a52d-878a679fbc0a",
   "metadata": {},
   "outputs": [
    {
     "data": {
      "text/plain": [
       "'I eat    555     apples end'"
      ]
     },
     "execution_count": 55,
     "metadata": {},
     "output_type": "execute_result"
    }
   ],
   "source": [
    "a = \"I eat {1:^10} apples {0}\"\n",
    "a.format('end', 555)"
   ]
  },
  {
   "cell_type": "code",
   "execution_count": 58,
   "id": "da6712fd-d81d-4ed0-80c7-4a6ea4d9dfb7",
   "metadata": {},
   "outputs": [
    {
     "data": {
      "text/plain": [
       "'I eat 11111.00 apples'"
      ]
     },
     "execution_count": 58,
     "metadata": {},
     "output_type": "execute_result"
    }
   ],
   "source": [
    "a = \"I eat {:.2f} apples\"\n",
    "a.format(11111)"
   ]
  },
  {
   "cell_type": "code",
   "execution_count": 61,
   "id": "6d9c6ad9-574e-493a-bafa-fea88facc72f",
   "metadata": {},
   "outputs": [
    {
     "data": {
      "text/plain": [
       "'I eat 111,111 apples'"
      ]
     },
     "execution_count": 61,
     "metadata": {},
     "output_type": "execute_result"
    }
   ],
   "source": [
    "a = \"I eat {:,} apples\"\n",
    "a.format(111111)"
   ]
  },
  {
   "cell_type": "code",
   "execution_count": 62,
   "id": "fc2311b0-71f8-4382-b432-c362a7945a2f",
   "metadata": {},
   "outputs": [
    {
     "data": {
      "text/plain": [
       "'3.11.7 | packaged by Anaconda, Inc. | (main, Dec 15 2023, 18:05:47) [MSC v.1916 64 bit (AMD64)]'"
      ]
     },
     "execution_count": 62,
     "metadata": {},
     "output_type": "execute_result"
    }
   ],
   "source": [
    "import sys\n",
    "sys.version"
   ]
  },
  {
   "cell_type": "code",
   "execution_count": 72,
   "id": "149ddc46-32cc-478e-b370-ac1267aa6767",
   "metadata": {},
   "outputs": [
    {
     "data": {
      "text/plain": [
       "'나의 이름은 홍길동 입니다. 30,000,000 살입니다.'"
      ]
     },
     "execution_count": 72,
     "metadata": {},
     "output_type": "execute_result"
    }
   ],
   "source": [
    "name = \"홍길동\"\n",
    "age = 30000000\n",
    "f'나의 이름은 {name} 입니다. {age:,} 살입니다.'"
   ]
  },
  {
   "cell_type": "code",
   "execution_count": 76,
   "id": "dc5acf3b-69b3-45f7-b0c9-51ff0cd4b889",
   "metadata": {},
   "outputs": [
    {
     "data": {
      "text/plain": [
       "2"
      ]
     },
     "execution_count": 76,
     "metadata": {},
     "output_type": "execute_result"
    }
   ],
   "source": [
    "a = \"hobby\"\n",
    "a.count('b')"
   ]
  },
  {
   "cell_type": "code",
   "execution_count": 78,
   "id": "69280730-6413-401e-9908-147f48a6438f",
   "metadata": {},
   "outputs": [
    {
     "data": {
      "text/plain": [
       "14"
      ]
     },
     "execution_count": 78,
     "metadata": {},
     "output_type": "execute_result"
    }
   ],
   "source": [
    "a = \"Python is the best choice\"\n",
    "a.find('b')"
   ]
  },
  {
   "cell_type": "code",
   "execution_count": 80,
   "id": "d3a8b1a3-8b4a-4ed1-ab4c-b9caa389c601",
   "metadata": {},
   "outputs": [
    {
     "data": {
      "text/plain": [
       "-1"
      ]
     },
     "execution_count": 80,
     "metadata": {},
     "output_type": "execute_result"
    }
   ],
   "source": [
    "a = \"Python is the best choice\"\n",
    "a.find('k')"
   ]
  },
  {
   "cell_type": "code",
   "execution_count": 82,
   "id": "7d84dd0d-2877-4c29-8b05-9ac0d762787b",
   "metadata": {},
   "outputs": [
    {
     "ename": "ValueError",
     "evalue": "substring not found",
     "output_type": "error",
     "traceback": [
      "\u001b[1;31m---------------------------------------------------------------------------\u001b[0m",
      "\u001b[1;31mValueError\u001b[0m                                Traceback (most recent call last)",
      "Cell \u001b[1;32mIn[82], line 2\u001b[0m\n\u001b[0;32m      1\u001b[0m a \u001b[38;5;241m=\u001b[39m \u001b[38;5;124m\"\u001b[39m\u001b[38;5;124mPython is the best choice\u001b[39m\u001b[38;5;124m\"\u001b[39m\n\u001b[1;32m----> 2\u001b[0m a\u001b[38;5;241m.\u001b[39mindex(\u001b[38;5;124m'\u001b[39m\u001b[38;5;124mk\u001b[39m\u001b[38;5;124m'\u001b[39m)\n",
      "\u001b[1;31mValueError\u001b[0m: substring not found"
     ]
    }
   ],
   "source": [
    "a = \"Python is the best choice\"\n",
    "a.index('k')"
   ]
  },
  {
   "cell_type": "code",
   "execution_count": 83,
   "id": "1998bcb0-a297-48b7-8932-51ffc95e4e59",
   "metadata": {},
   "outputs": [
    {
     "data": {
      "text/plain": [
       "'a,b,c,d'"
      ]
     },
     "execution_count": 83,
     "metadata": {},
     "output_type": "execute_result"
    }
   ],
   "source": [
    "\",\".join('abcd')"
   ]
  },
  {
   "cell_type": "code",
   "execution_count": 85,
   "id": "46af11cb-8107-4eca-9ae1-6e09743f6097",
   "metadata": {},
   "outputs": [
    {
     "data": {
      "text/plain": [
       "'a,b,c,d'"
      ]
     },
     "execution_count": 85,
     "metadata": {},
     "output_type": "execute_result"
    }
   ],
   "source": [
    "\",\".join(['a', 'b', 'c', 'd'])"
   ]
  },
  {
   "cell_type": "code",
   "execution_count": 1,
   "id": "77e14f20-f660-4159-825c-6474270986b6",
   "metadata": {},
   "outputs": [
    {
     "data": {
      "text/plain": [
       "['a', 'b', 'c', 'd']"
      ]
     },
     "execution_count": 1,
     "metadata": {},
     "output_type": "execute_result"
    }
   ],
   "source": [
    "'a,b,c,d'.split(',')"
   ]
  },
  {
   "cell_type": "markdown",
   "id": "ca00f6c1-456f-4788-98f5-59c735251e74",
   "metadata": {},
   "source": [
    "## 3. 리스트 자료형"
   ]
  },
  {
   "cell_type": "code",
   "execution_count": 5,
   "id": "0708a627-5858-4334-bf44-193305339ef5",
   "metadata": {},
   "outputs": [],
   "source": [
    "a = []\n",
    "b = [1, 2, 3]\n",
    "c = ['Life', 'is', 'too', 'short']\n",
    "d = [1, 2, 'Life', 'is']\n",
    "e = [1, 2, ['Life', 'is']]"
   ]
  },
  {
   "cell_type": "code",
   "execution_count": 6,
   "id": "ccb5f715-5419-4a68-ad82-3d1f89609cac",
   "metadata": {},
   "outputs": [
    {
     "data": {
      "text/plain": [
       "2"
      ]
     },
     "execution_count": 6,
     "metadata": {},
     "output_type": "execute_result"
    }
   ],
   "source": [
    "e[1]"
   ]
  },
  {
   "cell_type": "code",
   "execution_count": 7,
   "id": "6450814b-4c55-43be-9d86-485138775522",
   "metadata": {},
   "outputs": [
    {
     "data": {
      "text/plain": [
       "['Life', 'is']"
      ]
     },
     "execution_count": 7,
     "metadata": {},
     "output_type": "execute_result"
    }
   ],
   "source": [
    "e[2]"
   ]
  },
  {
   "cell_type": "code",
   "execution_count": 8,
   "id": "6cc8db81-ae3b-419d-ac1d-1761ef451e65",
   "metadata": {},
   "outputs": [
    {
     "data": {
      "text/plain": [
       "'is'"
      ]
     },
     "execution_count": 8,
     "metadata": {},
     "output_type": "execute_result"
    }
   ],
   "source": [
    "e[2][1]"
   ]
  },
  {
   "cell_type": "code",
   "execution_count": 9,
   "id": "49355a79-e68b-4763-8643-e987454f440c",
   "metadata": {},
   "outputs": [
    {
     "data": {
      "text/plain": [
       "list"
      ]
     },
     "execution_count": 9,
     "metadata": {},
     "output_type": "execute_result"
    }
   ],
   "source": [
    "a = []\n",
    "type(a)"
   ]
  },
  {
   "cell_type": "code",
   "execution_count": 11,
   "id": "13156590-101f-40c5-aa52-db7f3e03924a",
   "metadata": {},
   "outputs": [
    {
     "data": {
      "text/plain": [
       "[1, 2, ['Life', 'is']]"
      ]
     },
     "execution_count": 11,
     "metadata": {},
     "output_type": "execute_result"
    }
   ],
   "source": [
    "e"
   ]
  },
  {
   "cell_type": "code",
   "execution_count": 12,
   "id": "13b91b70-a02b-45ea-8942-ca3f3c4eebc6",
   "metadata": {},
   "outputs": [
    {
     "data": {
      "text/plain": [
       "3"
      ]
     },
     "execution_count": 12,
     "metadata": {},
     "output_type": "execute_result"
    }
   ],
   "source": [
    "len(e)"
   ]
  },
  {
   "cell_type": "code",
   "execution_count": 13,
   "id": "b893628e-5d26-40ca-8c2c-cfdb611939fb",
   "metadata": {},
   "outputs": [
    {
     "data": {
      "text/plain": [
       "2"
      ]
     },
     "execution_count": 13,
     "metadata": {},
     "output_type": "execute_result"
    }
   ],
   "source": [
    "len(e[2])"
   ]
  },
  {
   "cell_type": "code",
   "execution_count": 15,
   "id": "e8b41d82-443e-46e9-820c-998fb8d3c758",
   "metadata": {},
   "outputs": [
    {
     "data": {
      "text/plain": [
       "[1, 2, 4]"
      ]
     },
     "execution_count": 15,
     "metadata": {},
     "output_type": "execute_result"
    }
   ],
   "source": [
    "a = [1,2,3]\n",
    "a[2] = 4\n",
    "a"
   ]
  },
  {
   "cell_type": "code",
   "execution_count": 16,
   "id": "cebc61d4-4fe5-4de4-ae32-d39ec880fea9",
   "metadata": {},
   "outputs": [],
   "source": [
    "del(a[1])"
   ]
  },
  {
   "cell_type": "code",
   "execution_count": 17,
   "id": "f3156b2f-2d2c-4ce6-9ad7-e90d3f833aeb",
   "metadata": {},
   "outputs": [
    {
     "data": {
      "text/plain": [
       "[1, 4]"
      ]
     },
     "execution_count": 17,
     "metadata": {},
     "output_type": "execute_result"
    }
   ],
   "source": [
    "a"
   ]
  },
  {
   "cell_type": "code",
   "execution_count": 18,
   "id": "fdee35c6-7f20-4269-9a83-e9d840a3cbb8",
   "metadata": {},
   "outputs": [],
   "source": [
    "del a[0]"
   ]
  },
  {
   "cell_type": "code",
   "execution_count": 19,
   "id": "3014e9cb-f605-4ec0-b871-ca48208801ce",
   "metadata": {},
   "outputs": [
    {
     "data": {
      "text/plain": [
       "[4]"
      ]
     },
     "execution_count": 19,
     "metadata": {},
     "output_type": "execute_result"
    }
   ],
   "source": [
    "a"
   ]
  },
  {
   "cell_type": "code",
   "execution_count": 20,
   "id": "5ba15962-8871-4c4b-b6fb-8fb752557c3b",
   "metadata": {},
   "outputs": [],
   "source": [
    "del(a)"
   ]
  },
  {
   "cell_type": "code",
   "execution_count": 21,
   "id": "7e243e67-28ef-463b-915a-aa67caa5e1bf",
   "metadata": {},
   "outputs": [
    {
     "ename": "NameError",
     "evalue": "name 'a' is not defined",
     "output_type": "error",
     "traceback": [
      "\u001b[1;31m---------------------------------------------------------------------------\u001b[0m",
      "\u001b[1;31mNameError\u001b[0m                                 Traceback (most recent call last)",
      "Cell \u001b[1;32mIn[21], line 1\u001b[0m\n\u001b[1;32m----> 1\u001b[0m a\n",
      "\u001b[1;31mNameError\u001b[0m: name 'a' is not defined"
     ]
    }
   ],
   "source": [
    "a"
   ]
  },
  {
   "cell_type": "code",
   "execution_count": 22,
   "id": "ba61e413-3117-4f9e-923d-e89142bd7f63",
   "metadata": {},
   "outputs": [
    {
     "data": {
      "text/plain": [
       "[1, 2, 'Life', 'is']"
      ]
     },
     "execution_count": 22,
     "metadata": {},
     "output_type": "execute_result"
    }
   ],
   "source": [
    "d"
   ]
  },
  {
   "cell_type": "code",
   "execution_count": 24,
   "id": "8d26e592-95f5-4d34-bad4-fe3b42c415b2",
   "metadata": {},
   "outputs": [],
   "source": [
    "d.append(4)"
   ]
  },
  {
   "cell_type": "code",
   "execution_count": 25,
   "id": "688befdd-faf7-4b4e-90e6-e4f198547fae",
   "metadata": {},
   "outputs": [
    {
     "data": {
      "text/plain": [
       "[1, 2, 'Life', 'is', 4]"
      ]
     },
     "execution_count": 25,
     "metadata": {},
     "output_type": "execute_result"
    }
   ],
   "source": [
    "d"
   ]
  },
  {
   "cell_type": "code",
   "execution_count": 26,
   "id": "21a06e84-fc56-461b-aca2-6457a439a429",
   "metadata": {},
   "outputs": [],
   "source": [
    "d.append([1,2,3])"
   ]
  },
  {
   "cell_type": "code",
   "execution_count": 27,
   "id": "1a2d7342-eaa1-46ab-b199-81f0500a2f31",
   "metadata": {},
   "outputs": [
    {
     "data": {
      "text/plain": [
       "[1, 2, 'Life', 'is', 4, [1, 2, 3]]"
      ]
     },
     "execution_count": 27,
     "metadata": {},
     "output_type": "execute_result"
    }
   ],
   "source": [
    "d"
   ]
  },
  {
   "cell_type": "code",
   "execution_count": 30,
   "id": "63d9e9a4-a13c-4421-9a63-5cc240683681",
   "metadata": {},
   "outputs": [
    {
     "ename": "TypeError",
     "evalue": "'<' not supported between instances of 'str' and 'int'",
     "output_type": "error",
     "traceback": [
      "\u001b[1;31m---------------------------------------------------------------------------\u001b[0m",
      "\u001b[1;31mTypeError\u001b[0m                                 Traceback (most recent call last)",
      "Cell \u001b[1;32mIn[30], line 1\u001b[0m\n\u001b[1;32m----> 1\u001b[0m d\u001b[38;5;241m.\u001b[39msort()\n",
      "\u001b[1;31mTypeError\u001b[0m: '<' not supported between instances of 'str' and 'int'"
     ]
    }
   ],
   "source": [
    "d.sort()"
   ]
  },
  {
   "cell_type": "code",
   "execution_count": 33,
   "id": "92d58d5e-6283-4c35-bd68-3942b55b01ea",
   "metadata": {},
   "outputs": [],
   "source": [
    "a = [1,4,3,2]"
   ]
  },
  {
   "cell_type": "code",
   "execution_count": 34,
   "id": "2ccf74fa-4a53-44e7-ab64-444312bfc8d4",
   "metadata": {},
   "outputs": [],
   "source": [
    "a.sort()"
   ]
  },
  {
   "cell_type": "code",
   "execution_count": 35,
   "id": "ff4c87d4-2fd9-4fc6-8f8b-14eec0fcbed7",
   "metadata": {},
   "outputs": [
    {
     "data": {
      "text/plain": [
       "[1, 2, 3, 4]"
      ]
     },
     "execution_count": 35,
     "metadata": {},
     "output_type": "execute_result"
    }
   ],
   "source": [
    "a"
   ]
  },
  {
   "cell_type": "code",
   "execution_count": 42,
   "id": "1cac9259-d6a8-46a5-934d-336ac287c258",
   "metadata": {},
   "outputs": [
    {
     "data": {
      "text/plain": [
       "['c', 'b', 'a']"
      ]
     },
     "execution_count": 42,
     "metadata": {},
     "output_type": "execute_result"
    }
   ],
   "source": [
    "a =  ['a','c','b']\n",
    "a.sort(reverse=True)\n",
    "a"
   ]
  },
  {
   "cell_type": "code",
   "execution_count": 47,
   "id": "41529e41-14c7-4e52-b188-e8a9fb403b54",
   "metadata": {},
   "outputs": [
    {
     "data": {
      "text/plain": [
       "2"
      ]
     },
     "execution_count": 47,
     "metadata": {},
     "output_type": "execute_result"
    }
   ],
   "source": [
    "a = [1,2,3]\n",
    "a.index(3)"
   ]
  },
  {
   "cell_type": "code",
   "execution_count": 48,
   "id": "67ace26e-f1fd-41d1-baf9-df540a8db841",
   "metadata": {},
   "outputs": [
    {
     "data": {
      "text/plain": [
       "[5, 1, 2, 3]"
      ]
     },
     "execution_count": 48,
     "metadata": {},
     "output_type": "execute_result"
    }
   ],
   "source": [
    "a = [1,2,3]\n",
    "a.insert(0,5)\n",
    "a"
   ]
  },
  {
   "cell_type": "code",
   "execution_count": 49,
   "id": "0639380b-041c-4cec-aa93-4f4afc391c1a",
   "metadata": {},
   "outputs": [
    {
     "data": {
      "text/plain": [
       "[1, 2, 1, 2, 3]"
      ]
     },
     "execution_count": 49,
     "metadata": {},
     "output_type": "execute_result"
    }
   ],
   "source": [
    "a = [1,2,3,1,2,3]\n",
    "a.remove(3)\n",
    "a"
   ]
  },
  {
   "cell_type": "code",
   "execution_count": 53,
   "id": "3ec3063c-cccc-4c6d-9184-5c2763964030",
   "metadata": {},
   "outputs": [
    {
     "data": {
      "text/plain": [
       "[2, 3]"
      ]
     },
     "execution_count": 53,
     "metadata": {},
     "output_type": "execute_result"
    }
   ],
   "source": [
    "a = [1,2,3]\n",
    "a.pop(0)\n",
    "a"
   ]
  },
  {
   "cell_type": "markdown",
   "id": "cb3c37a9-152c-446a-b8a8-167100c67644",
   "metadata": {},
   "source": [
    "## 4. 튜플"
   ]
  },
  {
   "cell_type": "code",
   "execution_count": 55,
   "id": "f9222ec5-9300-4337-9e2f-c2180dd3b0ce",
   "metadata": {},
   "outputs": [],
   "source": [
    "t1 = ()\n",
    "t2 = (1,)\n",
    "t3 = (1, 2, 3)\n",
    "t4 = 1, 2, 3\n",
    "t5 = ('a', 'b', ('ab', 'cd'))"
   ]
  },
  {
   "cell_type": "code",
   "execution_count": 56,
   "id": "86fc8d26-2b99-4b96-b225-bca4f13e118d",
   "metadata": {},
   "outputs": [
    {
     "data": {
      "text/plain": [
       "tuple"
      ]
     },
     "execution_count": 56,
     "metadata": {},
     "output_type": "execute_result"
    }
   ],
   "source": [
    "type(t1)"
   ]
  },
  {
   "cell_type": "code",
   "execution_count": 57,
   "id": "cdcc8c90-69f2-4910-8e72-3c318d42a7ed",
   "metadata": {},
   "outputs": [
    {
     "data": {
      "text/plain": [
       "tuple"
      ]
     },
     "execution_count": 57,
     "metadata": {},
     "output_type": "execute_result"
    }
   ],
   "source": [
    "type(t4)"
   ]
  },
  {
   "cell_type": "code",
   "execution_count": 58,
   "id": "fad11ec6-7470-42b8-bb8c-7b17b8504242",
   "metadata": {},
   "outputs": [
    {
     "data": {
      "text/plain": [
       "()"
      ]
     },
     "execution_count": 58,
     "metadata": {},
     "output_type": "execute_result"
    }
   ],
   "source": [
    "tuple()"
   ]
  },
  {
   "cell_type": "code",
   "execution_count": 59,
   "id": "f6b6a6e9-ba72-4f78-a420-7983cb2008c1",
   "metadata": {},
   "outputs": [
    {
     "data": {
      "text/plain": [
       "2"
      ]
     },
     "execution_count": 59,
     "metadata": {},
     "output_type": "execute_result"
    }
   ],
   "source": [
    "t3[1]"
   ]
  },
  {
   "cell_type": "code",
   "execution_count": 61,
   "id": "6ac3fa0d-a4c6-4484-bd07-7d97042d25c8",
   "metadata": {},
   "outputs": [
    {
     "ename": "TypeError",
     "evalue": "'tuple' object does not support item assignment",
     "output_type": "error",
     "traceback": [
      "\u001b[1;31m---------------------------------------------------------------------------\u001b[0m",
      "\u001b[1;31mTypeError\u001b[0m                                 Traceback (most recent call last)",
      "Cell \u001b[1;32mIn[61], line 1\u001b[0m\n\u001b[1;32m----> 1\u001b[0m t3[\u001b[38;5;241m1\u001b[39m] \u001b[38;5;241m=\u001b[39m \u001b[38;5;241m5\u001b[39m\n",
      "\u001b[1;31mTypeError\u001b[0m: 'tuple' object does not support item assignment"
     ]
    }
   ],
   "source": [
    "t3[1] = 5"
   ]
  },
  {
   "cell_type": "code",
   "execution_count": 62,
   "id": "36175c16-beaa-4b2b-8259-e14bbfd3b47f",
   "metadata": {},
   "outputs": [
    {
     "ename": "TypeError",
     "evalue": "'tuple' object doesn't support item deletion",
     "output_type": "error",
     "traceback": [
      "\u001b[1;31m---------------------------------------------------------------------------\u001b[0m",
      "\u001b[1;31mTypeError\u001b[0m                                 Traceback (most recent call last)",
      "Cell \u001b[1;32mIn[62], line 1\u001b[0m\n\u001b[1;32m----> 1\u001b[0m \u001b[38;5;28;01mdel\u001b[39;00m(t3[\u001b[38;5;241m1\u001b[39m])\n",
      "\u001b[1;31mTypeError\u001b[0m: 'tuple' object doesn't support item deletion"
     ]
    }
   ],
   "source": [
    "del(t3[1])"
   ]
  },
  {
   "cell_type": "code",
   "execution_count": 63,
   "id": "a29d74e6-19cb-4ba7-9d34-ec2a8d283b26",
   "metadata": {},
   "outputs": [],
   "source": [
    "del(t3)"
   ]
  },
  {
   "cell_type": "code",
   "execution_count": 64,
   "id": "fc91112d-6e64-46e9-9d53-96fe1df7b230",
   "metadata": {},
   "outputs": [
    {
     "ename": "NameError",
     "evalue": "name 't3' is not defined",
     "output_type": "error",
     "traceback": [
      "\u001b[1;31m---------------------------------------------------------------------------\u001b[0m",
      "\u001b[1;31mNameError\u001b[0m                                 Traceback (most recent call last)",
      "Cell \u001b[1;32mIn[64], line 1\u001b[0m\n\u001b[1;32m----> 1\u001b[0m t3\n",
      "\u001b[1;31mNameError\u001b[0m: name 't3' is not defined"
     ]
    }
   ],
   "source": [
    "t3"
   ]
  },
  {
   "cell_type": "markdown",
   "id": "1415d0c1-33c4-4667-b102-033dbf19a581",
   "metadata": {},
   "source": [
    "## 5. 딕셔너리"
   ]
  },
  {
   "cell_type": "code",
   "execution_count": 65,
   "id": "78d0098d-f630-471f-8e64-5ead6754514f",
   "metadata": {},
   "outputs": [],
   "source": [
    "dic = {'name': 'pey', 'phone': '010-9999-1234', 'birth': '1118'}"
   ]
  },
  {
   "cell_type": "code",
   "execution_count": 66,
   "id": "e2f454fc-d3d2-4e2c-b255-3206686d450c",
   "metadata": {},
   "outputs": [
    {
     "data": {
      "text/plain": [
       "dict"
      ]
     },
     "execution_count": 66,
     "metadata": {},
     "output_type": "execute_result"
    }
   ],
   "source": [
    "type(dic)"
   ]
  },
  {
   "cell_type": "code",
   "execution_count": 67,
   "id": "47070937-8828-4322-bb36-edafce53edfd",
   "metadata": {},
   "outputs": [
    {
     "data": {
      "text/plain": [
       "{}"
      ]
     },
     "execution_count": 67,
     "metadata": {},
     "output_type": "execute_result"
    }
   ],
   "source": [
    "dict()"
   ]
  },
  {
   "cell_type": "code",
   "execution_count": 68,
   "id": "e29ca941-5def-4455-a587-bfded69643b2",
   "metadata": {},
   "outputs": [
    {
     "data": {
      "text/plain": [
       "'pey'"
      ]
     },
     "execution_count": 68,
     "metadata": {},
     "output_type": "execute_result"
    }
   ],
   "source": [
    "dic['name']"
   ]
  },
  {
   "cell_type": "code",
   "execution_count": 69,
   "id": "ea25dce1-94e2-49b1-bfaf-ed1131109ba8",
   "metadata": {},
   "outputs": [],
   "source": [
    "dic['name']='hong'"
   ]
  },
  {
   "cell_type": "code",
   "execution_count": 70,
   "id": "8f1ebd56-0d44-4de2-8d0d-5fd4e737ed7d",
   "metadata": {},
   "outputs": [
    {
     "data": {
      "text/plain": [
       "{'name': 'hong', 'phone': '010-9999-1234', 'birth': '1118'}"
      ]
     },
     "execution_count": 70,
     "metadata": {},
     "output_type": "execute_result"
    }
   ],
   "source": [
    "dic"
   ]
  },
  {
   "cell_type": "code",
   "execution_count": 71,
   "id": "59e842ab-fb3c-4022-a5b0-81a58229497b",
   "metadata": {},
   "outputs": [],
   "source": [
    "dic['address']='부산'"
   ]
  },
  {
   "cell_type": "code",
   "execution_count": 72,
   "id": "11fdd03e-5ff0-4432-9cbb-8b577583f7b8",
   "metadata": {},
   "outputs": [
    {
     "data": {
      "text/plain": [
       "{'name': 'hong', 'phone': '010-9999-1234', 'birth': '1118', 'address': '부산'}"
      ]
     },
     "execution_count": 72,
     "metadata": {},
     "output_type": "execute_result"
    }
   ],
   "source": [
    "dic"
   ]
  },
  {
   "cell_type": "code",
   "execution_count": 73,
   "id": "5fd2bb33-322f-41cb-ae23-1d46f2ef22b6",
   "metadata": {},
   "outputs": [],
   "source": [
    "del(dic['address'])"
   ]
  },
  {
   "cell_type": "code",
   "execution_count": 74,
   "id": "536350e7-f671-4daa-88a9-df42fb5b6935",
   "metadata": {},
   "outputs": [
    {
     "data": {
      "text/plain": [
       "{'name': 'hong', 'phone': '010-9999-1234', 'birth': '1118'}"
      ]
     },
     "execution_count": 74,
     "metadata": {},
     "output_type": "execute_result"
    }
   ],
   "source": [
    "dic"
   ]
  },
  {
   "cell_type": "code",
   "execution_count": 75,
   "id": "cf58991b-7f4e-46f4-a55f-fab813e33fe3",
   "metadata": {},
   "outputs": [],
   "source": [
    "dic[(1,2)] = (1,2,3,4)"
   ]
  },
  {
   "cell_type": "code",
   "execution_count": 76,
   "id": "e3852993-a9d0-491d-82ac-7889460b0397",
   "metadata": {},
   "outputs": [
    {
     "data": {
      "text/plain": [
       "{'name': 'hong',\n",
       " 'phone': '010-9999-1234',\n",
       " 'birth': '1118',\n",
       " (1, 2): (1, 2, 3, 4)}"
      ]
     },
     "execution_count": 76,
     "metadata": {},
     "output_type": "execute_result"
    }
   ],
   "source": [
    "dic"
   ]
  },
  {
   "cell_type": "code",
   "execution_count": 77,
   "id": "bacadc2b-0c01-421b-8135-fb092f0a529d",
   "metadata": {},
   "outputs": [
    {
     "ename": "TypeError",
     "evalue": "unhashable type: 'list'",
     "output_type": "error",
     "traceback": [
      "\u001b[1;31m---------------------------------------------------------------------------\u001b[0m",
      "\u001b[1;31mTypeError\u001b[0m                                 Traceback (most recent call last)",
      "Cell \u001b[1;32mIn[77], line 1\u001b[0m\n\u001b[1;32m----> 1\u001b[0m dic[[\u001b[38;5;241m1\u001b[39m,\u001b[38;5;241m2\u001b[39m]] \u001b[38;5;241m=\u001b[39m [\u001b[38;5;241m1\u001b[39m,\u001b[38;5;241m2\u001b[39m,\u001b[38;5;241m3\u001b[39m,\u001b[38;5;241m4\u001b[39m]\n",
      "\u001b[1;31mTypeError\u001b[0m: unhashable type: 'list'"
     ]
    }
   ],
   "source": [
    "dic[[1,2]] = [1,2,3,4]"
   ]
  },
  {
   "cell_type": "code",
   "execution_count": 78,
   "id": "61f891b3-d607-4378-a6e4-8ca9f45bd3f4",
   "metadata": {},
   "outputs": [],
   "source": [
    "dic[1] = 1"
   ]
  },
  {
   "cell_type": "code",
   "execution_count": 79,
   "id": "cde97426-6126-4cf7-95f4-f98c3c33be75",
   "metadata": {},
   "outputs": [
    {
     "data": {
      "text/plain": [
       "{'name': 'hong',\n",
       " 'phone': '010-9999-1234',\n",
       " 'birth': '1118',\n",
       " (1, 2): (1, 2, 3, 4),\n",
       " 1: 1}"
      ]
     },
     "execution_count": 79,
     "metadata": {},
     "output_type": "execute_result"
    }
   ],
   "source": [
    "dic"
   ]
  },
  {
   "cell_type": "code",
   "execution_count": 81,
   "id": "5d5edb45-651f-49f4-8c3f-fcd8c39a5031",
   "metadata": {},
   "outputs": [],
   "source": [
    "dic[1.9] = 1"
   ]
  },
  {
   "cell_type": "code",
   "execution_count": 82,
   "id": "87e90740-c8e4-4d9b-a5c5-4c919597873d",
   "metadata": {},
   "outputs": [
    {
     "data": {
      "text/plain": [
       "{'name': 'hong',\n",
       " 'phone': '010-9999-1234',\n",
       " 'birth': '1118',\n",
       " (1, 2): (1, 2, 3, 4),\n",
       " 1: 1,\n",
       " 1.9: 1}"
      ]
     },
     "execution_count": 82,
     "metadata": {},
     "output_type": "execute_result"
    }
   ],
   "source": [
    "dic"
   ]
  },
  {
   "cell_type": "code",
   "execution_count": 83,
   "id": "d1df3ec5-0b7b-4b0f-afd3-38acc205bd7b",
   "metadata": {},
   "outputs": [
    {
     "data": {
      "text/plain": [
       "dict_keys(['name', 'phone', 'birth', (1, 2), 1, 1.9])"
      ]
     },
     "execution_count": 83,
     "metadata": {},
     "output_type": "execute_result"
    }
   ],
   "source": [
    "dic.keys()"
   ]
  },
  {
   "cell_type": "code",
   "execution_count": 84,
   "id": "f72a4fd9-2364-41bc-8a72-a860f320118e",
   "metadata": {},
   "outputs": [
    {
     "data": {
      "text/plain": [
       "dict_values(['hong', '010-9999-1234', '1118', (1, 2, 3, 4), 1, 1])"
      ]
     },
     "execution_count": 84,
     "metadata": {},
     "output_type": "execute_result"
    }
   ],
   "source": [
    "dic.values()"
   ]
  },
  {
   "cell_type": "code",
   "execution_count": 85,
   "id": "cc5f98f5-a330-45c0-b709-c7b28ed060d7",
   "metadata": {},
   "outputs": [
    {
     "data": {
      "text/plain": [
       "dict_items([('name', 'hong'), ('phone', '010-9999-1234'), ('birth', '1118'), ((1, 2), (1, 2, 3, 4)), (1, 1), (1.9, 1)])"
      ]
     },
     "execution_count": 85,
     "metadata": {},
     "output_type": "execute_result"
    }
   ],
   "source": [
    "dic.items()"
   ]
  },
  {
   "cell_type": "code",
   "execution_count": 86,
   "id": "76ccd527-8974-4875-a2b5-9ccf1029e61a",
   "metadata": {},
   "outputs": [
    {
     "data": {
      "text/plain": [
       "'hong'"
      ]
     },
     "execution_count": 86,
     "metadata": {},
     "output_type": "execute_result"
    }
   ],
   "source": [
    "dic['name']"
   ]
  },
  {
   "cell_type": "code",
   "execution_count": 87,
   "id": "f2225635-567a-4eba-ad73-ef2005c63848",
   "metadata": {},
   "outputs": [
    {
     "ename": "KeyError",
     "evalue": "'name1'",
     "output_type": "error",
     "traceback": [
      "\u001b[1;31m---------------------------------------------------------------------------\u001b[0m",
      "\u001b[1;31mKeyError\u001b[0m                                  Traceback (most recent call last)",
      "Cell \u001b[1;32mIn[87], line 1\u001b[0m\n\u001b[1;32m----> 1\u001b[0m dic[\u001b[38;5;124m'\u001b[39m\u001b[38;5;124mname1\u001b[39m\u001b[38;5;124m'\u001b[39m]\n",
      "\u001b[1;31mKeyError\u001b[0m: 'name1'"
     ]
    }
   ],
   "source": [
    "dic['name1']"
   ]
  },
  {
   "cell_type": "code",
   "execution_count": 88,
   "id": "88224666-db10-48bb-a468-c0a0e790751c",
   "metadata": {},
   "outputs": [
    {
     "data": {
      "text/plain": [
       "'hong'"
      ]
     },
     "execution_count": 88,
     "metadata": {},
     "output_type": "execute_result"
    }
   ],
   "source": [
    "dic.get('name')"
   ]
  },
  {
   "cell_type": "code",
   "execution_count": 89,
   "id": "e9c74005-0c12-462a-97d9-67e4373e1cfe",
   "metadata": {},
   "outputs": [],
   "source": [
    "dic.get('name1')"
   ]
  },
  {
   "cell_type": "code",
   "execution_count": 91,
   "id": "a74544d4-7143-4aa3-98ca-cf3a4960c52c",
   "metadata": {},
   "outputs": [
    {
     "data": {
      "text/plain": [
       "True"
      ]
     },
     "execution_count": 91,
     "metadata": {},
     "output_type": "execute_result"
    }
   ],
   "source": [
    "'name' in dic"
   ]
  },
  {
   "cell_type": "code",
   "execution_count": 92,
   "id": "379014d0-88a2-4954-84a7-fa6486b611a4",
   "metadata": {},
   "outputs": [
    {
     "data": {
      "text/plain": [
       "False"
      ]
     },
     "execution_count": 92,
     "metadata": {},
     "output_type": "execute_result"
    }
   ],
   "source": [
    "'name1' in dic"
   ]
  },
  {
   "cell_type": "code",
   "execution_count": 93,
   "id": "4f2d6b84-2292-460f-8ccb-50af0b2e29fc",
   "metadata": {},
   "outputs": [
    {
     "data": {
      "text/plain": [
       "{1, 2, 3, 5, 7, 8, 9}"
      ]
     },
     "execution_count": 93,
     "metadata": {},
     "output_type": "execute_result"
    }
   ],
   "source": [
    "s = {1,2,5,3,7,5,8,9,8,3}\n",
    "s"
   ]
  },
  {
   "cell_type": "code",
   "execution_count": 94,
   "id": "e83d9564-70d8-4322-b0ec-04ea9ecb1699",
   "metadata": {},
   "outputs": [
    {
     "data": {
      "text/plain": [
       "set"
      ]
     },
     "execution_count": 94,
     "metadata": {},
     "output_type": "execute_result"
    }
   ],
   "source": [
    "type(s)"
   ]
  },
  {
   "cell_type": "code",
   "execution_count": 95,
   "id": "29f21a6d-427f-44ed-846d-cd6fe27b1923",
   "metadata": {},
   "outputs": [
    {
     "data": {
      "text/plain": [
       "False"
      ]
     },
     "execution_count": 95,
     "metadata": {},
     "output_type": "execute_result"
    }
   ],
   "source": [
    "bool(\"\")"
   ]
  },
  {
   "cell_type": "code",
   "execution_count": 96,
   "id": "337d652d-e6b0-4339-b097-6def1d68e3dd",
   "metadata": {},
   "outputs": [
    {
     "data": {
      "text/plain": [
       "True"
      ]
     },
     "execution_count": 96,
     "metadata": {},
     "output_type": "execute_result"
    }
   ],
   "source": [
    "bool('hh')"
   ]
  },
  {
   "cell_type": "code",
   "execution_count": 97,
   "id": "8760e0c6-ae5e-462b-9193-d324f325ef42",
   "metadata": {},
   "outputs": [],
   "source": [
    "a = [1,2,3]"
   ]
  },
  {
   "cell_type": "code",
   "execution_count": 98,
   "id": "56ef326e-6613-488a-bf86-660ef5aef1d0",
   "metadata": {},
   "outputs": [
    {
     "data": {
      "text/plain": [
       "1835665448576"
      ]
     },
     "execution_count": 98,
     "metadata": {},
     "output_type": "execute_result"
    }
   ],
   "source": [
    "id(a)"
   ]
  },
  {
   "cell_type": "code",
   "execution_count": 99,
   "id": "b1650dea-fa24-475b-bd4a-c27d9d4ea2c5",
   "metadata": {},
   "outputs": [],
   "source": [
    "b = a"
   ]
  },
  {
   "cell_type": "code",
   "execution_count": 100,
   "id": "bb72578a-7598-4817-9fc4-e0874effec76",
   "metadata": {},
   "outputs": [
    {
     "data": {
      "text/plain": [
       "1835665448576"
      ]
     },
     "execution_count": 100,
     "metadata": {},
     "output_type": "execute_result"
    }
   ],
   "source": [
    "id(b)"
   ]
  },
  {
   "cell_type": "code",
   "execution_count": 101,
   "id": "6579b1c7-fdd3-4e5d-ae7e-7342f07d1b93",
   "metadata": {},
   "outputs": [
    {
     "data": {
      "text/plain": [
       "1835664791680"
      ]
     },
     "execution_count": 101,
     "metadata": {},
     "output_type": "execute_result"
    }
   ],
   "source": [
    "c = [2,4,8]\n",
    "id(c)"
   ]
  },
  {
   "cell_type": "code",
   "execution_count": 108,
   "id": "b718e10e-051c-4808-a33f-67618ba78233",
   "metadata": {},
   "outputs": [],
   "source": [
    "a,b = (1,2)"
   ]
  },
  {
   "cell_type": "code",
   "execution_count": 103,
   "id": "a6b99ced-b01c-4175-ab8a-48ef09f415e6",
   "metadata": {},
   "outputs": [
    {
     "data": {
      "text/plain": [
       "1"
      ]
     },
     "execution_count": 103,
     "metadata": {},
     "output_type": "execute_result"
    }
   ],
   "source": [
    "a"
   ]
  },
  {
   "cell_type": "code",
   "execution_count": 104,
   "id": "80dd5ac9-9cb7-4df3-a916-bd0c4b3c60c2",
   "metadata": {},
   "outputs": [
    {
     "data": {
      "text/plain": [
       "2"
      ]
     },
     "execution_count": 104,
     "metadata": {},
     "output_type": "execute_result"
    }
   ],
   "source": [
    "b"
   ]
  },
  {
   "cell_type": "code",
   "execution_count": null,
   "id": "8ab4c3da-ed63-4a08-874d-403978f0c210",
   "metadata": {},
   "outputs": [],
   "source": []
  }
 ],
 "metadata": {
  "kernelspec": {
   "display_name": "Python 3 (ipykernel)",
   "language": "python",
   "name": "python3"
  },
  "language_info": {
   "codemirror_mode": {
    "name": "ipython",
    "version": 3
   },
   "file_extension": ".py",
   "mimetype": "text/x-python",
   "name": "python",
   "nbconvert_exporter": "python",
   "pygments_lexer": "ipython3",
   "version": "3.11.7"
  }
 },
 "nbformat": 4,
 "nbformat_minor": 5
}
